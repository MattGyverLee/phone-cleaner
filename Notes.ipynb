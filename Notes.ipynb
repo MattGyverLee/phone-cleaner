{
 "cells": [
  {
   "cell_type": "markdown",
   "id": "6c6a031d",
   "metadata": {},
   "source": [
    "# Init"
   ]
  },
  {
   "cell_type": "code",
   "execution_count": 123,
   "id": "f88d9722",
   "metadata": {},
   "outputs": [],
   "source": [
    "import panphon\n",
    "import panphon.distance\n",
    "ft = panphon.FeatureTable()\n",
    "dst = panphon.distance.Distance()"
   ]
  },
  {
   "cell_type": "markdown",
   "id": "9a768ffe",
   "metadata": {},
   "source": [
    "# Feature Tables"
   ]
  },
  {
   "cell_type": "code",
   "execution_count": null,
   "id": "eea86a20",
   "metadata": {},
   "outputs": [],
   "source": [
    "ft.word_array(['syl', 'son', 'cont'], u'sɑlti')"
   ]
  },
  {
   "cell_type": "markdown",
   "id": "2ae06939",
   "metadata": {},
   "source": [
    "# Edit distance:"
   ]
  },
  {
   "cell_type": "code",
   "execution_count": 10,
   "id": "b56f10cc",
   "metadata": {},
   "outputs": [
    {
     "data": {
      "text/plain": [
       "0.25"
      ]
     },
     "execution_count": 10,
     "metadata": {},
     "output_type": "execute_result"
    }
   ],
   "source": [
    "dst.weighted_feature_edit_distance(u'p',u'b')\n",
    "# These only differ in voicing."
   ]
  },
  {
   "cell_type": "code",
   "execution_count": 11,
   "id": "2858d8c2",
   "metadata": {},
   "outputs": [
    {
     "data": {
      "text/plain": [
       "7.25"
      ]
     },
     "execution_count": 11,
     "metadata": {},
     "output_type": "execute_result"
    }
   ],
   "source": [
    "dst.weighted_feature_edit_distance(u'ɡb',u'b')\n",
    "# These are very different because /gb/ is interpreted as /g/ and /b/ side by side."
   ]
  },
  {
   "cell_type": "code",
   "execution_count": 12,
   "id": "205fddaa",
   "metadata": {},
   "outputs": [
    {
     "data": {
      "text/plain": [
       "2"
      ]
     },
     "execution_count": 12,
     "metadata": {},
     "output_type": "execute_result"
    }
   ],
   "source": [
    "len(ft.word_fts(u'ɡb'))\n",
    "#See, this has 2 segments."
   ]
  },
  {
   "cell_type": "code",
   "execution_count": 13,
   "id": "cf119b0d",
   "metadata": {},
   "outputs": [
    {
     "data": {
      "text/plain": [
       "1"
      ]
     },
     "execution_count": 13,
     "metadata": {},
     "output_type": "execute_result"
    }
   ],
   "source": [
    "dst.dolgo_prime_distance(u'ɡ͡b',u'b')\n"
   ]
  },
  {
   "cell_type": "code",
   "execution_count": 14,
   "id": "8ae058f1",
   "metadata": {},
   "outputs": [
    {
     "data": {
      "text/plain": [
       "0.08333333333333333"
      ]
     },
     "execution_count": 14,
     "metadata": {},
     "output_type": "execute_result"
    }
   ],
   "source": [
    "dst.feature_edit_distance(u'ɡ͡b',u'b')\n"
   ]
  },
  {
   "cell_type": "code",
   "execution_count": 15,
   "id": "453052d3",
   "metadata": {},
   "outputs": [
    {
     "data": {
      "text/plain": [
       "1.0"
      ]
     },
     "execution_count": 15,
     "metadata": {},
     "output_type": "execute_result"
    }
   ],
   "source": [
    "dst.weighted_feature_edit_distance(u'ɡ͡b',u'b')\n"
   ]
  },
  {
   "cell_type": "code",
   "execution_count": 16,
   "id": "c2fba6be",
   "metadata": {},
   "outputs": [
    {
     "name": "stdout",
     "output_type": "stream",
     "text": [
      "['ɡ͡b', 'b']\n",
      "<Segment [-syl, -son, +cons, -cont, -delrel, -lat, -nas, 0strid, +voi, -sg, -cg, 0ant, -cor, 0distr, +lab, +hi, -lo, 0back, -round, -velaric, 0tense, -long, 0hitone, 0hireg]>\n",
      "<Segment [-syl, -son, +cons, -cont, -delrel, -lat, -nas, 0strid, +voi, -sg, -cg, +ant, -cor, 0distr, +lab, -hi, -lo, -back, -round, -velaric, 0tense, -long, 0hitone, 0hireg]>\n",
      "\n",
      "Difference: \n",
      "['ant', 'hi', 'back']\n",
      "Same: \n",
      "<Segment [-syl, -son, +cons, -cont, -delrel, -lat, -nas, 0strid, +voi, -sg, -cg, -cor, 0distr, +lab, -lo, -round, -velaric, 0tense, -long, 0hitone, 0hireg]>\n"
     ]
    }
   ],
   "source": [
    "word = ft.ipa_segs(u'ɡ͡bb')\n",
    "print(word)\n",
    "wordFt = ft.word_fts(u'ɡ͡bb')\n",
    "for seg in wordFt:\n",
    "        print(seg)\n",
    "        \n",
    "print(\"\\nDifference: \")\n",
    "print(wordFt[0].differing_specs(wordFt[1]))\n",
    "\n",
    "print(\"Same: \")\n",
    "print(wordFt[0].intersection(wordFt[1]))\n",
    "\n",
    "\n"
   ]
  },
  {
   "cell_type": "markdown",
   "id": "e6c51614",
   "metadata": {},
   "source": [
    "You would think that /gb/ and /b/ would be similar sounds, but the above code rates it at 7.5, this is because /g/ and /b/ are counted as 2 separate segements and the g must be added at great cost. The correct version is double articulation /ɡ͡b/ which only has a distance of 1 from /b/."
   ]
  },
  {
   "cell_type": "markdown",
   "id": "bd0145b6",
   "metadata": {},
   "source": [
    "# Matrix"
   ]
  },
  {
   "cell_type": "code",
   "execution_count": null,
   "id": "56cecd4c",
   "metadata": {},
   "outputs": [],
   "source": [
    "Segs = ft.ipa_segs(u'ɡ͡b b m')\n",
    "for seg in Segs:\n",
    "        print(seg)\n",
    "from itertools import combinations\n",
    "a = combinations(Segs, 2) \n",
    "y = [' '.join(i) for i in a]\n",
    "print(y)"
   ]
  },
  {
   "cell_type": "markdown",
   "id": "412b3012",
   "metadata": {},
   "source": [
    "# Audio Stuff\n",
    "https://musicinformationretrieval.com/ipython_audio.html "
   ]
  },
  {
   "cell_type": "code",
   "execution_count": null,
   "id": "3cf7b08b",
   "metadata": {},
   "outputs": [],
   "source": []
  }
 ],
 "metadata": {
  "kernelspec": {
   "display_name": "Python 3 (ipykernel)",
   "language": "python",
   "name": "python3"
  },
  "language_info": {
   "codemirror_mode": {
    "name": "ipython",
    "version": 3
   },
   "file_extension": ".py",
   "mimetype": "text/x-python",
   "name": "python",
   "nbconvert_exporter": "python",
   "pygments_lexer": "ipython3",
   "version": "3.11.5"
  }
 },
 "nbformat": 4,
 "nbformat_minor": 5
}
